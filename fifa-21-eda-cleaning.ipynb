{
 "cells": [
  {
   "cell_type": "markdown",
   "metadata": {
    "id": "pvn1Ns3n469Q",
    "papermill": {
     "duration": 0.057184,
     "end_time": "2020-11-16T15:48:40.51804",
     "exception": false,
     "start_time": "2020-11-16T15:48:40.460856",
     "status": "completed"
    },
    "tags": []
   },
   "source": [
    "<a id=\"top\"></a>\n",
    "<h1 style=\"font-family:verdana;\"> <center>🏆 FIFA : Most Optimized Transfer Window 🏆</center> </h1>\n",
    "<p><center style=\"color:#159364; font-family:cursive;\">Let's start with a little intro</center></p>\n",
    "\n",
    "***\n",
    "<div class=\"alert alert-block alert-info\" style=\"font-size:14px; font-family:verdana; line-height: 1.7em;\">\n",
    "You are giving Santa Clara a try to challenge yourself a bit after you won everything you could have possibly won in your Big 6 career mode. However, you don't want it to be too big of a challenge and decide to give yourself a small financial takeover boost of 100M euros. With this amount of money, which 11 players are you bringing in to help Santa Clara dominate Europe?\n",
    "</div>"
   ]
  },
  {
   "cell_type": "markdown",
   "metadata": {
    "id": "mYOquQ7H77ro",
    "papermill": {
     "duration": 0.052182,
     "end_time": "2020-11-16T15:48:40.623448",
     "exception": false,
     "start_time": "2020-11-16T15:48:40.571266",
     "status": "completed"
    },
    "tags": []
   },
   "source": [
    "![images.jpg](https://images.livemint.com/img/2020/06/19/600x338/Fifa_1592566574619_1592566698613.png)"
   ]
  },
  {
   "cell_type": "markdown",
   "metadata": {
    "papermill": {
     "duration": 0.052829,
     "end_time": "2020-11-16T15:48:40.728951",
     "exception": false,
     "start_time": "2020-11-16T15:48:40.676122",
     "status": "completed"
    },
    "tags": []
   },
   "source": [
    "# **Table of Contents**\n",
    "\n",
    "<a id = 'max 10'></a>\n",
    "\n",
    "* [Importing Libraries and Exploring Data](#1)\n",
    "\n",
    "\n",
    "* [Data Manipualtion and Cleaning](#2)\n",
    "  * Deleted Useless Columns\n",
    "  * Formed a new column of BMI using Weights and Heights column\n",
    "  * Countered Null values using Get Dummies for Player positions\n",
    "  * For columns like Dribbling, Defendind,Pace etc used Median value\n",
    "\n",
    "\n",
    "* [Data Analysis](#3)\n",
    "   * Relationship of Overall Rating and Value in Euros using Scatter Plot\n",
    "   * Relationship of Potential Rating and Wage in Euros using Scatter Plot\n",
    "   * Count of Preferred Foot and International Reputation using Count Plot\n",
    "   * Distribution of Age and BMI using Histogram\n",
    "   * Relationship of BMI vs Pace and Weight vs Pace using Reg Plot\n",
    "   \n",
    "   \n",
    "   \n",
    "* [Top 20 Analysis](#4)\n",
    "   * Which Country has Max players in Top 20?\n",
    "   * Which Club has Max players in Top 20?\n",
    "   * Which type of player comes most in Top 20?\n",
    "   * Which age belongs to max players in Top 20?\n",
    "   \n",
    "   \n",
    "   \n",
    "* [The Biggest Rivalry - Messi and Ronaldo](#5)\n",
    "   * Comparison of different attributes using **Radar Plot**\n",
    "   \n",
    "   \n",
    "* [Other Top Class Comparisons](#6)\n",
    "   * Comparison of Kevin De Bryne and Luka Modric using Radar Plot\n",
    "   * Comparison of Van Dijk and Sergio Ramos using Radar Plot\n",
    "   * Comparison of Harry Kane and Sergio Aguero using Radar Plot\n",
    "  "
   ]
  },
  {
   "cell_type": "markdown",
   "metadata": {
    "id": "9EfMWTJ23qq_",
    "papermill": {
     "duration": 0.05259,
     "end_time": "2020-11-16T15:48:40.835862",
     "exception": false,
     "start_time": "2020-11-16T15:48:40.783272",
     "status": "completed"
    },
    "tags": []
   },
   "source": [
    "# **1. Importing Libraries & Data Exploration** <a class=\"anchor\" id=\"1\"></a>"
   ]
  },
  {
   "cell_type": "code",
   "execution_count": 18,
   "metadata": {
    "execution": {
     "iopub.execute_input": "2020-11-16T15:48:40.95556Z",
     "iopub.status.busy": "2020-11-16T15:48:40.954741Z",
     "iopub.status.idle": "2020-11-16T15:48:42.109569Z",
     "shell.execute_reply": "2020-11-16T15:48:42.108556Z"
    },
    "papermill": {
     "duration": 1.221333,
     "end_time": "2020-11-16T15:48:42.109748",
     "exception": false,
     "start_time": "2020-11-16T15:48:40.888415",
     "status": "completed"
    },
    "tags": []
   },
   "outputs": [],
   "source": [
    "import pandas as pd\n",
    "pd.set_option('display.max_columns', None)\n",
    "import numpy as np\n",
    "import matplotlib.pyplot as plt\n",
    "%matplotlib inline\n",
    "from math import pi #Used in Radar Plots\n",
    "import seaborn as sns\n",
    "sns.set_style(style='darkgrid')\n",
    "import warnings\n",
    "warnings.filterwarnings('ignore')"
   ]
  },
  {
   "cell_type": "code",
   "execution_count": 19,
   "metadata": {
    "execution": {
     "iopub.execute_input": "2020-11-16T15:48:42.234009Z",
     "iopub.status.busy": "2020-11-16T15:48:42.233222Z",
     "iopub.status.idle": "2020-11-16T15:48:42.660736Z",
     "shell.execute_reply": "2020-11-16T15:48:42.659876Z"
    },
    "id": "L48G0cSR-M1m",
    "papermill": {
     "duration": 0.490445,
     "end_time": "2020-11-16T15:48:42.660892",
     "exception": false,
     "start_time": "2020-11-16T15:48:42.170447",
     "status": "completed"
    },
    "tags": []
   },
   "outputs": [],
   "source": [
    "fifa_21 = pd.read_csv('data/players_21.csv')"
   ]
  },
  {
   "cell_type": "markdown",
   "metadata": {
    "id": "WQUC39ug35Yr",
    "papermill": {
     "duration": 0.056067,
     "end_time": "2020-11-16T15:48:43.233594",
     "exception": false,
     "start_time": "2020-11-16T15:48:43.177527",
     "status": "completed"
    },
    "tags": []
   },
   "source": [
    "# **2. Data Manipulation & Cleaning** <a class=\"anchor\" id=\"2\"></a>"
   ]
  },
  {
   "cell_type": "code",
   "execution_count": 4,
   "metadata": {
    "execution": {
     "iopub.execute_input": "2020-11-16T15:48:43.353326Z",
     "iopub.status.busy": "2020-11-16T15:48:43.352238Z",
     "iopub.status.idle": "2020-11-16T15:48:43.355455Z",
     "shell.execute_reply": "2020-11-16T15:48:43.356076Z"
    },
    "id": "66ILcryns4xg",
    "papermill": {
     "duration": 0.066272,
     "end_time": "2020-11-16T15:48:43.356279",
     "exception": false,
     "start_time": "2020-11-16T15:48:43.290007",
     "status": "completed"
    },
    "tags": []
   },
   "outputs": [],
   "source": [
    "useless_column = ['dob','sofifa_id','player_url','long_name','body_type','real_face','nation_position','loaned_from','nation_jersey_number']"
   ]
  },
  {
   "cell_type": "code",
   "execution_count": 5,
   "metadata": {
    "execution": {
     "iopub.execute_input": "2020-11-16T15:48:43.479463Z",
     "iopub.status.busy": "2020-11-16T15:48:43.478641Z",
     "iopub.status.idle": "2020-11-16T15:48:43.493008Z",
     "shell.execute_reply": "2020-11-16T15:48:43.492354Z"
    },
    "id": "DOs1gJb8uDxc",
    "papermill": {
     "duration": 0.079808,
     "end_time": "2020-11-16T15:48:43.493158",
     "exception": false,
     "start_time": "2020-11-16T15:48:43.41335",
     "status": "completed"
    },
    "tags": []
   },
   "outputs": [],
   "source": [
    "fifa_21 = fifa_21.drop(useless_column, axis = 1)"
   ]
  },
  {
   "cell_type": "code",
   "execution_count": 6,
   "metadata": {
    "execution": {
     "iopub.execute_input": "2020-11-16T15:48:43.641166Z",
     "iopub.status.busy": "2020-11-16T15:48:43.640148Z",
     "iopub.status.idle": "2020-11-16T15:48:43.671617Z",
     "shell.execute_reply": "2020-11-16T15:48:43.670877Z"
    },
    "id": "stcVl66Fu3O2",
    "papermill": {
     "duration": 0.109258,
     "end_time": "2020-11-16T15:48:43.671757",
     "exception": false,
     "start_time": "2020-11-16T15:48:43.562499",
     "status": "completed"
    },
    "tags": []
   },
   "outputs": [],
   "source": [
    "fifa_21['BMI'] = fifa_21 ['weight_kg'] / (fifa_21['height_cm'] / 100) ** 2"
   ]
  },
  {
   "cell_type": "code",
   "execution_count": 7,
   "metadata": {
    "execution": {
     "iopub.execute_input": "2020-11-16T15:48:43.956657Z",
     "iopub.status.busy": "2020-11-16T15:48:43.93948Z",
     "iopub.status.idle": "2020-11-16T15:48:44.778381Z",
     "shell.execute_reply": "2020-11-16T15:48:44.777707Z"
    },
    "id": "j1xICynn2iq1",
    "outputId": "5a1e355c-b719-440e-efec-d8d482be0cbc",
    "papermill": {
     "duration": 0.908536,
     "end_time": "2020-11-16T15:48:44.77851",
     "exception": false,
     "start_time": "2020-11-16T15:48:43.869974",
     "status": "completed"
    },
    "tags": []
   },
   "outputs": [],
   "source": [
    "new_player_position = fifa_21['player_positions'].str.get_dummies(sep=',').add_prefix('Position')"
   ]
  },
  {
   "cell_type": "code",
   "execution_count": 8,
   "metadata": {
    "execution": {
     "iopub.execute_input": "2020-11-16T15:48:44.908068Z",
     "iopub.status.busy": "2020-11-16T15:48:44.904722Z",
     "iopub.status.idle": "2020-11-16T15:48:44.938496Z",
     "shell.execute_reply": "2020-11-16T15:48:44.937824Z"
    },
    "id": "MVVe5trx4y5L",
    "papermill": {
     "duration": 0.100387,
     "end_time": "2020-11-16T15:48:44.938622",
     "exception": false,
     "start_time": "2020-11-16T15:48:44.838235",
     "status": "completed"
    },
    "tags": []
   },
   "outputs": [],
   "source": [
    "fifa_21 =  pd.concat([fifa_21,new_player_position],axis = 1)\n",
    "fifa_21 =  fifa_21.drop('player_positions',axis=1)"
   ]
  },
  {
   "cell_type": "code",
   "execution_count": 9,
   "metadata": {
    "execution": {
     "iopub.execute_input": "2020-11-16T15:48:45.473299Z",
     "iopub.status.busy": "2020-11-16T15:48:45.472303Z",
     "iopub.status.idle": "2020-11-16T15:48:45.475037Z",
     "shell.execute_reply": "2020-11-16T15:48:45.475795Z"
    },
    "id": "pMrZ3NLn53z3",
    "papermill": {
     "duration": 0.072123,
     "end_time": "2020-11-16T15:48:45.475951",
     "exception": false,
     "start_time": "2020-11-16T15:48:45.403828",
     "status": "completed"
    },
    "tags": []
   },
   "outputs": [],
   "source": [
    "columns = ['ls','st','rs','lw','lf','cf','rf','rw','lam','cam','ram','lm','lcm','cm','rcm','rm','lwb','ldm', 'cdm','rdm','rwb','lb','lcb','cb','rcb','rb']"
   ]
  },
  {
   "cell_type": "code",
   "execution_count": 10,
   "metadata": {
    "execution": {
     "iopub.execute_input": "2020-11-16T15:48:45.88708Z",
     "iopub.status.busy": "2020-11-16T15:48:45.867799Z",
     "iopub.status.idle": "2020-11-16T15:48:47.545091Z",
     "shell.execute_reply": "2020-11-16T15:48:47.544106Z"
    },
    "id": "EVGVWBKPBpKm",
    "outputId": "322f3cc4-e45f-403a-d1a0-b14b3a3f0ed6",
    "papermill": {
     "duration": 1.835155,
     "end_time": "2020-11-16T15:48:47.545259",
     "exception": false,
     "start_time": "2020-11-16T15:48:45.710104",
     "status": "completed"
    },
    "tags": []
   },
   "outputs": [],
   "source": [
    "for col in columns:\n",
    "  fifa_21[col] = fifa_21[col].str.split('+',n=1,expand = True)[0]\n",
    "        "
   ]
  },
  {
   "cell_type": "code",
   "execution_count": 11,
   "metadata": {
    "execution": {
     "iopub.execute_input": "2020-11-16T15:48:47.68117Z",
     "iopub.status.busy": "2020-11-16T15:48:47.680007Z",
     "iopub.status.idle": "2020-11-16T15:48:47.771863Z",
     "shell.execute_reply": "2020-11-16T15:48:47.771035Z"
    },
    "id": "SJ4nkI-PCYrZ",
    "papermill": {
     "duration": 0.161844,
     "end_time": "2020-11-16T15:48:47.772003",
     "exception": false,
     "start_time": "2020-11-16T15:48:47.610159",
     "status": "completed"
    },
    "tags": []
   },
   "outputs": [],
   "source": [
    "fifa_21[columns] = fifa_21[columns].fillna(0)\n",
    "fifa_21[columns] = fifa_21[columns].astype(int)"
   ]
  },
  {
   "cell_type": "code",
   "execution_count": 12,
   "metadata": {
    "execution": {
     "iopub.execute_input": "2020-11-16T15:48:48.249957Z",
     "iopub.status.busy": "2020-11-16T15:48:48.24916Z",
     "iopub.status.idle": "2020-11-16T15:48:48.25247Z",
     "shell.execute_reply": "2020-11-16T15:48:48.251826Z"
    },
    "id": "1LavRUItDVFT",
    "papermill": {
     "duration": 0.071907,
     "end_time": "2020-11-16T15:48:48.252612",
     "exception": false,
     "start_time": "2020-11-16T15:48:48.180705",
     "status": "completed"
    },
    "tags": []
   },
   "outputs": [],
   "source": [
    "columns = ['dribbling','defending','physic','passing','shooting','pace']"
   ]
  },
  {
   "cell_type": "code",
   "execution_count": 13,
   "metadata": {
    "execution": {
     "iopub.execute_input": "2020-11-16T15:48:48.561466Z",
     "iopub.status.busy": "2020-11-16T15:48:48.560684Z",
     "iopub.status.idle": "2020-11-16T15:48:48.568268Z",
     "shell.execute_reply": "2020-11-16T15:48:48.567515Z"
    },
    "id": "XGueEulUD0Bw",
    "outputId": "0ebe03c3-cf03-4124-d926-785860c24cff",
    "papermill": {
     "duration": 0.078915,
     "end_time": "2020-11-16T15:48:48.568396",
     "exception": false,
     "start_time": "2020-11-16T15:48:48.489481",
     "status": "completed"
    },
    "tags": []
   },
   "outputs": [
    {
     "data": {
      "text/plain": [
       "dribbling    2083\n",
       "defending    2083\n",
       "physic       2083\n",
       "passing      2083\n",
       "shooting     2083\n",
       "pace         2083\n",
       "dtype: int64"
      ]
     },
     "execution_count": 13,
     "metadata": {},
     "output_type": "execute_result"
    }
   ],
   "source": [
    "fifa_21[columns].isnull().sum()"
   ]
  },
  {
   "cell_type": "code",
   "execution_count": 14,
   "metadata": {
    "execution": {
     "iopub.execute_input": "2020-11-16T15:48:48.706087Z",
     "iopub.status.busy": "2020-11-16T15:48:48.705311Z",
     "iopub.status.idle": "2020-11-16T15:48:48.729851Z",
     "shell.execute_reply": "2020-11-16T15:48:48.729095Z"
    },
    "id": "oLm6p3vUD6Tz",
    "outputId": "c44aae18-3488-4616-b231-7ca61ba055af",
    "papermill": {
     "duration": 0.095899,
     "end_time": "2020-11-16T15:48:48.72998",
     "exception": false,
     "start_time": "2020-11-16T15:48:48.634081",
     "status": "completed"
    },
    "tags": []
   },
   "outputs": [],
   "source": [
    "for col in columns:\n",
    "  fifa_21[col] = fifa_21[col].fillna(fifa_21[col].median())"
   ]
  },
  {
   "cell_type": "code",
   "execution_count": 15,
   "metadata": {
    "execution": {
     "iopub.execute_input": "2020-11-16T15:48:48.86895Z",
     "iopub.status.busy": "2020-11-16T15:48:48.868167Z",
     "iopub.status.idle": "2020-11-16T15:48:48.89681Z",
     "shell.execute_reply": "2020-11-16T15:48:48.895984Z"
    },
    "id": "91v-e4u1Fr78",
    "papermill": {
     "duration": 0.099936,
     "end_time": "2020-11-16T15:48:48.89694",
     "exception": false,
     "start_time": "2020-11-16T15:48:48.797004",
     "status": "completed"
    },
    "tags": []
   },
   "outputs": [],
   "source": [
    "fifa_21 = fifa_21.fillna(0)"
   ]
  },
  {
   "cell_type": "code",
   "execution_count": 16,
   "metadata": {
    "execution": {
     "iopub.execute_input": "2020-11-16T15:48:49.037748Z",
     "iopub.status.busy": "2020-11-16T15:48:49.03695Z",
     "iopub.status.idle": "2020-11-16T15:48:49.068216Z",
     "shell.execute_reply": "2020-11-16T15:48:49.06755Z"
    },
    "id": "0lhJNOaXF8EE",
    "outputId": "7acb52d1-d70a-400b-c839-14d0693cc232",
    "papermill": {
     "duration": 0.102726,
     "end_time": "2020-11-16T15:48:49.068344",
     "exception": false,
     "start_time": "2020-11-16T15:48:48.965618",
     "status": "completed"
    },
    "tags": []
   },
   "outputs": [
    {
     "data": {
      "text/plain": [
       "short_name     0\n",
       "age            0\n",
       "height_cm      0\n",
       "weight_kg      0\n",
       "nationality    0\n",
       "              ..\n",
       "PositionRB     0\n",
       "PositionRM     0\n",
       "PositionRW     0\n",
       "PositionRWB    0\n",
       "PositionST     0\n",
       "Length: 126, dtype: int64"
      ]
     },
     "execution_count": 16,
     "metadata": {},
     "output_type": "execute_result"
    }
   ],
   "source": [
    "fifa_21.isnull().sum() #Verifying it Should be all zero"
   ]
  },
  {
   "cell_type": "markdown",
   "metadata": {},
   "source": [
    "# **3. Task Discussion** <a class=\"anchor\" id=\"3\"></a>"
   ]
  },
  {
   "cell_type": "markdown",
   "metadata": {},
   "source": [
    "Our aim is to buy a starting XI for Santa Clara for 100M euros. There are many ways to go about doing this. The naive way is to **divide the budget equally into 11 parts** (9.09M for each player), and look for players in each position with the best overall stats with value lower than 9.09M euros."
   ]
  },
  {
   "cell_type": "markdown",
   "metadata": {},
   "source": [
    "<blockquote><p style=\"font-size:16px; color:#159364; font-family:verdana;\">I will keep updating the notebook as and when I get a new question to be analysed.<br>\n",
    "Thank You For Having A Look At This Notebook 😃</p></blockquote>\n",
    "\n",
    "### If this kernels impress you,give them an <font size=\"+2\" color=\"red\"><b>Upvote</b></font>.<br>"
   ]
  },
  {
   "cell_type": "markdown",
   "metadata": {
    "papermill": {
     "duration": 0.176562,
     "end_time": "2020-11-16T15:49:15.616817",
     "exception": false,
     "start_time": "2020-11-16T15:49:15.440255",
     "status": "completed"
    },
    "tags": []
   },
   "source": [
    "<img src =\"https://media0.giphy.com/media/4PSESiw3VaSStOrPtq/200w.webp?cid=ecf05e4709o3p4kyc2t4w00xqhnfw0x78htw5xijisvom3e6&rid=200w.webp\">"
   ]
  },
  {
   "cell_type": "markdown",
   "metadata": {},
   "source": [
    "<a href=\"#top\" class=\"btn btn-success btn-lg active\" role=\"button\" aria-pressed=\"true\" style=\"color:white\" data-toggle=\"popover\" title=\"go to Colors\">Go to TOP</a>"
   ]
  },
  {
   "cell_type": "code",
   "execution_count": null,
   "metadata": {},
   "outputs": [],
   "source": []
  }
 ],
 "metadata": {
  "kernelspec": {
   "display_name": "Python 3",
   "language": "python",
   "name": "python3"
  },
  "language_info": {
   "codemirror_mode": {
    "name": "ipython",
    "version": 3
   },
   "file_extension": ".py",
   "mimetype": "text/x-python",
   "name": "python",
   "nbconvert_exporter": "python",
   "pygments_lexer": "ipython3",
   "version": "3.8.3"
  }
 },
 "nbformat": 4,
 "nbformat_minor": 4
}
